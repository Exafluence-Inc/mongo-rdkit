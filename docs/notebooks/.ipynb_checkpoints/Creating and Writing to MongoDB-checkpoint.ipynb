{
 "cells": [
  {
   "cell_type": "markdown",
   "metadata": {},
   "source": [
    "# Creating and Writing to MongoDB\n",
    "\n",
    "Last updated: 8/10/20\n",
    "\n",
    "Methods that directly modify MongoDB database instances are included in the `mongordkit.Database` module.\n",
    "\n",
    "\n",
    "\n"
   ]
  },
  {
   "cell_type": "code",
   "execution_count": 1,
   "metadata": {},
   "outputs": [],
   "source": [
    "from mongordkit.Database import create, write, utils, registration\n",
    "from rdkit import Chem\n",
    "import pymongo"
   ]
  },
  {
   "cell_type": "markdown",
   "metadata": {},
   "source": [
    "## Reset Cells\n",
    "Run the contents of this cell to reset the local MongoDB database, `demo_db`, used in this notebook."
   ]
  },
  {
   "cell_type": "code",
   "execution_count": 2,
   "metadata": {},
   "outputs": [],
   "source": [
    "client = pymongo.MongoClient()\n",
    "client.drop_database('demo_db')\n",
    "demo_db = client.demo_db\n",
    "\n",
    "# Disable rdkit warnings\n",
    "rdkit.RDLogger.DisableLog('rdApp.*')"
   ]
  },
  {
   "cell_type": "markdown",
   "metadata": {},
   "source": [
    "## Creating Databases (DEPRECATED for now)\n",
    "Users can opt to bring their own database instances, but `Database.create` provides methods that will create ready-made MongoDB instances, defaulting to your local MongoDB:"
   ]
  },
  {
   "cell_type": "code",
   "execution_count": null,
   "metadata": {},
   "outputs": [],
   "source": [
    "# # Return a database using a host port, such as the local port:\n",
    "# db = create.createFromHostPort('demo_db', host='localhost', port=27017)\n",
    "\n",
    "# # Return a database using a MongoDB URI, such as that provided by Atlas:\n",
    "# TestDB = create.createFromURL('demo_db', url=None)"
   ]
  },
  {
   "cell_type": "markdown",
   "metadata": {},
   "source": [
    "These databases are created with a `registration` collection. The registration collection includes several documents that consist of common pre-made settings, with the default being `STANDARD_SETTING`. All settings are documented in `Database.utils`."
   ]
  },
  {
   "cell_type": "code",
   "execution_count": null,
   "metadata": {},
   "outputs": [],
   "source": [
    "# print(utils.STANDARD_SETTING)"
   ]
  },
  {
   "cell_type": "markdown",
   "metadata": {},
   "source": [
    "## Data Registration\n",
    "`Database.registration` constructs document representations of molecules according to configurable schemes and handles data registration settings.\n",
    "\n",
    "It does this in two parts. First, it defines the global variable `HASH_FUNCTIONS` as a dictionary that maps hash function names to methods. It also defines the global variables `DEFAULT_SCHEME_NAME`, `DEFAULT_AUTHOR`, `DEFAULT_PREPROCESS`, and `DEFAULT_INDEX`, which are used in scheme creation and are thus defined for easy configuration. \n",
    "\n",
    "Second, the file defines the `MolDocScheme` object, which stores scheme information in its instance variables and is passed into `.write` methods in order to specify molecule document format. By default, `MolDocScheme` includes scheme name, author, whether or not the molecule has been pre-processed, an index option, two hashes, fingerprints, and value fields. All of the information contained in a `MolDocScheme` object can be used directly to generate documents for molecules:"
   ]
  },
  {
   "cell_type": "code",
   "execution_count": 3,
   "metadata": {},
   "outputs": [
    {
     "data": {
      "text/plain": [
       "{'rdmol': Binary(b'\\xef\\xbe\\xad\\xde\\x00\\x00\\x00\\x00\\x0b\\x00\\x00\\x00\\x00\\x00\\x00\\x00\\x00\\x00\\x00\\x00\\x07\\x00\\x00\\x00\\x07\\x00\\x00\\x00\\x80\\x01\\x06\\x00`\\x00\\x00\\x00\\x01\\x03\\x06@(\\x00\\x00\\x00\\x03\\x04\\x06@h\\x00\\x00\\x00\\x03\\x03\\x01\\x06@h\\x00\\x00\\x00\\x03\\x03\\x01\\x06@h\\x00\\x00\\x00\\x03\\x03\\x01\\x06@h\\x00\\x00\\x00\\x03\\x03\\x01\\x06@h\\x00\\x00\\x00\\x03\\x03\\x01\\x0b\\x00\\x01\\x00\\x01\\x02h\\x0c\\x02\\x03h\\x0c\\x03\\x04h\\x0c\\x04\\x05h\\x0c\\x05\\x06h\\x0c\\x06\\x01h\\x0c\\x14\\x01\\x06\\x01\\x06\\x05\\x04\\x03\\x02\\x17\\x00\\x00\\x00\\x00\\x16', 0),\n",
       " 'index': 'YXFVVABEGXRONW-UHFFFAOYSA-N',\n",
       " 'smiles': 'Cc1ccccc1',\n",
       " 'scheme': 'default',\n",
       " 'hashes': {'MolFormula': 'C7H8',\n",
       "  'SmallWorldIndexBRL': 'B7R1L5',\n",
       "  'AtomBondCounts': '7,7',\n",
       "  'cx_smiles': 'Cc1ccccc1',\n",
       "  'NetCharge': '0',\n",
       "  'CanonicalSmiles': 'Cc1ccccc1',\n",
       "  'inchikey_standard': 'YXFVVABEGXRONW-UHFFFAOYSA-N',\n",
       "  'inchikey_KET_15T': 'YXFVVABEGXRONW-UHFFFAOYNA-N',\n",
       "  'SmallWorldIndexBR': 'B7R1',\n",
       "  'DegreeVector': '0,1,5,1',\n",
       "  'ElementGraph': 'CC1CCCCC1',\n",
       "  'HetAtomTautomer': 'C[C]1[CH][CH][CH][CH][CH]1_0_0',\n",
       "  'inchi_standard': 'InChI=1S/C7H8/c1-7-5-3-2-4-6-7/h2-6H,1H3',\n",
       "  'RedoxPair': 'C[C]1[CH][CH][CH][CH][CH]1',\n",
       "  'AnonymousGraph': '**1*****1',\n",
       "  'Mesomer': 'C[C]1[CH][CH][CH][CH][CH]1_0',\n",
       "  'Regioisomer': '*C.c1ccccc1',\n",
       "  'inchi_KET_15T': 'InChI=1/C7H8/c1-7-5-3-2-4-6-7/h2-6H,1H3',\n",
       "  'MurckoScaffold': 'c1ccccc1',\n",
       "  'ArthorSubstructureOrder': '00070007010007000000002a000000',\n",
       "  'noiso_smiles': 'Cc1ccccc1',\n",
       "  'ExtendedMurcko': '*c1ccccc1',\n",
       "  'HetAtomProtomer': 'C[C]1[CH][CH][CH][CH][CH]1_0'},\n",
       " 'fingerprints': {},\n",
       " 'value_data': {}}"
      ]
     },
     "execution_count": 3,
     "metadata": {},
     "output_type": "execute_result"
    }
   ],
   "source": [
    "rdmol = Chem.MolFromSmiles('Cc1ccccc1')\n",
    "scheme = registration.MolDocScheme()\n",
    "scheme.generate_mol_doc(rdmol)"
   ]
  },
  {
   "cell_type": "markdown",
   "metadata": {},
   "source": [
    "The `MolDocScheme` class also defines a series of instance methods, such as `MolDocScheme.set_index` and `MolDocScheme.remove_field`, that can be used to modify document schemes:"
   ]
  },
  {
   "cell_type": "code",
   "execution_count": 4,
   "metadata": {},
   "outputs": [
    {
     "name": "stdout",
     "output_type": "stream",
     "text": [
      "removed AnonymousGraph from scheme\n"
     ]
    },
    {
     "data": {
      "text/plain": [
       "{'rdmol': Binary(b'\\xef\\xbe\\xad\\xde\\x00\\x00\\x00\\x00\\x0b\\x00\\x00\\x00\\x00\\x00\\x00\\x00\\x00\\x00\\x00\\x00\\x07\\x00\\x00\\x00\\x07\\x00\\x00\\x00\\x80\\x01\\x06\\x00`\\x00\\x00\\x00\\x01\\x03\\x06@(\\x00\\x00\\x00\\x03\\x04\\x06@h\\x00\\x00\\x00\\x03\\x03\\x01\\x06@h\\x00\\x00\\x00\\x03\\x03\\x01\\x06@h\\x00\\x00\\x00\\x03\\x03\\x01\\x06@h\\x00\\x00\\x00\\x03\\x03\\x01\\x06@h\\x00\\x00\\x00\\x03\\x03\\x01\\x0b\\x00\\x01\\x00\\x01\\x02h\\x0c\\x02\\x03h\\x0c\\x03\\x04h\\x0c\\x04\\x05h\\x0c\\x05\\x06h\\x0c\\x06\\x01h\\x0c\\x14\\x01\\x06\\x01\\x06\\x05\\x04\\x03\\x02\\x17\\x00\\x00\\x00\\x00\\x16', 0),\n",
       " 'index': 'C7H8',\n",
       " 'smiles': 'Cc1ccccc1',\n",
       " 'scheme': 'default',\n",
       " 'hashes': {'MolFormula': 'C7H8',\n",
       "  'SmallWorldIndexBRL': 'B7R1L5',\n",
       "  'AtomBondCounts': '7,7',\n",
       "  'cx_smiles': 'Cc1ccccc1',\n",
       "  'NetCharge': '0',\n",
       "  'CanonicalSmiles': 'Cc1ccccc1',\n",
       "  'inchikey_standard': 'YXFVVABEGXRONW-UHFFFAOYSA-N',\n",
       "  'inchikey_KET_15T': 'YXFVVABEGXRONW-UHFFFAOYNA-N',\n",
       "  'SmallWorldIndexBR': 'B7R1',\n",
       "  'DegreeVector': '0,1,5,1',\n",
       "  'ElementGraph': 'CC1CCCCC1',\n",
       "  'HetAtomTautomer': 'C[C]1[CH][CH][CH][CH][CH]1_0_0',\n",
       "  'inchi_standard': 'InChI=1S/C7H8/c1-7-5-3-2-4-6-7/h2-6H,1H3',\n",
       "  'RedoxPair': 'C[C]1[CH][CH][CH][CH][CH]1',\n",
       "  'Mesomer': 'C[C]1[CH][CH][CH][CH][CH]1_0',\n",
       "  'Regioisomer': '*C.c1ccccc1',\n",
       "  'inchi_KET_15T': 'InChI=1/C7H8/c1-7-5-3-2-4-6-7/h2-6H,1H3',\n",
       "  'MurckoScaffold': 'c1ccccc1',\n",
       "  'ArthorSubstructureOrder': '00070007010007000000002a000000',\n",
       "  'noiso_smiles': 'Cc1ccccc1',\n",
       "  'ExtendedMurcko': '*c1ccccc1',\n",
       "  'HetAtomProtomer': 'C[C]1[CH][CH][CH][CH][CH]1_0'},\n",
       " 'fingerprints': {},\n",
       " 'value_data': {}}"
      ]
     },
     "execution_count": 4,
     "metadata": {},
     "output_type": "execute_result"
    }
   ],
   "source": [
    "scheme.remove_field('CanonicalSmiles')\n",
    "scheme.add_hash_field('MolFormula')\n",
    "scheme.set_index('MolFormula')\n",
    "scheme.generate_mol_doc(rdmol)"
   ]
  },
  {
   "cell_type": "markdown",
   "metadata": {},
   "source": [
    "Because `MolDocScheme` objects contain no functions—only references to functions—they can be pickled. In fact, the methods in `write` can save `MolDocSchemes` so that custom schemes are retrievable for later use."
   ]
  },
  {
   "cell_type": "markdown",
   "metadata": {},
   "source": [
    "## Writing to a Database\n",
    "`Database.write` provides write functionality. Its core method is `WriteFromSDF`, which relies on rdkit's `ForwardSDMolSupplier` to write data from an SDF file into a specified database.\n",
    "\n",
    "For each molecule in the SDF, `WriteFromSDF` inserts a document whose fields are specified by the `MolDocScheme` object passed into the function (one with default settings is created if the `scheme` argument is left blank)."
   ]
  },
  {
   "cell_type": "code",
   "execution_count": 5,
   "metadata": {},
   "outputs": [
    {
     "name": "stdout",
     "output_type": "stream",
     "text": [
      "populating mongodb collection with compounds from SDF...\n"
     ]
    },
    {
     "name": "stderr",
     "output_type": "stream",
     "text": [
      "RDKit WARNING: [15:39:46] WARNING: Charges were rearranged\n",
      "RDKit WARNING: [15:39:46] WARNING: Charges were rearranged\n",
      "RDKit WARNING: [15:39:46] WARNING: Charges were rearranged\n",
      "RDKit WARNING: [15:39:46] WARNING: Charges were rearranged\n",
      "RDKit WARNING: [15:39:46] WARNING: Charges were rearranged\n",
      "RDKit WARNING: [15:39:46] WARNING: Charges were rearranged\n",
      "RDKit WARNING: [15:39:46] WARNING: Omitted undefined stereo\n",
      "RDKit WARNING: [15:39:46] WARNING: Omitted undefined stereo\n",
      "RDKit WARNING: [15:39:46] WARNING: Charges were rearranged; Omitted undefined stereo\n",
      "RDKit WARNING: [15:39:46] WARNING: Charges were rearranged; Omitted undefined stereo\n",
      "RDKit WARNING: [15:39:46] WARNING: Charges were rearranged\n",
      "RDKit WARNING: [15:39:46] WARNING: Charges were rearranged\n",
      "RDKit WARNING: [15:39:46] WARNING: Charges were rearranged\n",
      "RDKit WARNING: [15:39:46] WARNING: Charges were rearranged\n",
      "RDKit WARNING: [15:39:46] WARNING: Charges were rearranged\n",
      "RDKit WARNING: [15:39:46] WARNING: Charges were rearranged\n",
      "RDKit WARNING: [15:39:46] WARNING: Omitted undefined stereo\n",
      "RDKit WARNING: [15:39:46] WARNING: Omitted undefined stereo\n",
      "RDKit WARNING: [15:39:46] WARNING: Omitted undefined stereo\n",
      "RDKit WARNING: [15:39:46] WARNING: Omitted undefined stereo\n",
      "RDKit WARNING: [15:39:46] WARNING: Omitted undefined stereo\n",
      "RDKit WARNING: [15:39:46] WARNING: Omitted undefined stereo\n",
      "RDKit WARNING: [15:39:46] WARNING: Omitted undefined stereo\n",
      "RDKit WARNING: [15:39:46] WARNING: Omitted undefined stereo\n",
      "RDKit WARNING: [15:39:46] WARNING: Charges were rearranged\n",
      "RDKit WARNING: [15:39:46] WARNING: Charges were rearranged\n",
      "RDKit WARNING: [15:39:46] WARNING: Accepted unusual valence(s): Cu(4); Metal was disconnected\n",
      "RDKit WARNING: [15:39:46] WARNING: Accepted unusual valence(s): Cu(4); Metal was disconnected\n",
      "RDKit WARNING: [15:39:47] WARNING: Omitted undefined stereo\n",
      "RDKit WARNING: [15:39:47] WARNING: Omitted undefined stereo\n",
      "RDKit WARNING: [15:39:47] WARNING: Omitted undefined stereo\n",
      "RDKit WARNING: [15:39:47] WARNING: Omitted undefined stereo\n",
      "RDKit WARNING: [15:39:47] WARNING: Omitted undefined stereo\n",
      "RDKit WARNING: [15:39:47] WARNING: Omitted undefined stereo\n",
      "RDKit WARNING: [15:39:47] WARNING: Omitted undefined stereo\n",
      "RDKit WARNING: [15:39:47] WARNING: Omitted undefined stereo\n",
      "RDKit WARNING: [15:39:47] WARNING: Omitted undefined stereo\n",
      "RDKit WARNING: [15:39:47] WARNING: Omitted undefined stereo\n",
      "RDKit WARNING: [15:39:47] WARNING: Omitted undefined stereo\n",
      "RDKit WARNING: [15:39:47] WARNING: Omitted undefined stereo\n",
      "RDKit WARNING: [15:39:47] WARNING: Omitted undefined stereo\n",
      "RDKit WARNING: [15:39:47] WARNING: Omitted undefined stereo\n",
      "RDKit WARNING: [15:39:47] WARNING: Omitted undefined stereo\n",
      "RDKit WARNING: [15:39:47] WARNING: Omitted undefined stereo\n",
      "RDKit WARNING: [15:39:47] WARNING: Omitted undefined stereo\n",
      "RDKit WARNING: [15:39:47] WARNING: Omitted undefined stereo\n",
      "RDKit WARNING: [15:39:47] WARNING: Omitted undefined stereo\n",
      "RDKit WARNING: [15:39:47] WARNING: Accepted unusual valence(s): Cu(4); Metal was disconnected; Omitted undefined stereo\n",
      "RDKit WARNING: [15:39:47] WARNING: Accepted unusual valence(s): Cu(4); Metal was disconnected; Omitted undefined stereo\n",
      "RDKit WARNING: [15:39:47] WARNING: Omitted undefined stereo\n",
      "RDKit WARNING: [15:39:47] WARNING: Omitted undefined stereo\n",
      "RDKit WARNING: [15:39:47] WARNING: Charges were rearranged\n",
      "RDKit WARNING: [15:39:47] WARNING: Charges were rearranged\n",
      "RDKit WARNING: [15:39:47] WARNING: Charges were rearranged\n",
      "RDKit WARNING: [15:39:47] WARNING: Charges were rearranged\n",
      "RDKit WARNING: [15:39:47] WARNING: Omitted undefined stereo\n",
      "RDKit WARNING: [15:39:47] WARNING: Omitted undefined stereo\n",
      "RDKit WARNING: [15:39:47] WARNING: Omitted undefined stereo\n",
      "RDKit WARNING: [15:39:47] WARNING: Omitted undefined stereo\n",
      "RDKit WARNING: [15:39:47] WARNING: Omitted undefined stereo\n",
      "RDKit WARNING: [15:39:47] WARNING: Omitted undefined stereo\n",
      "RDKit WARNING: [15:39:47] WARNING: Omitted undefined stereo\n",
      "RDKit WARNING: [15:39:47] WARNING: Omitted undefined stereo\n",
      "RDKit WARNING: [15:39:47] WARNING: Omitted undefined stereo\n",
      "RDKit WARNING: [15:39:47] WARNING: Omitted undefined stereo\n",
      "RDKit WARNING: [15:39:47] WARNING: Omitted undefined stereo\n",
      "RDKit WARNING: [15:39:47] WARNING: Omitted undefined stereo\n",
      "RDKit WARNING: [15:39:47] WARNING: Charges were rearranged; Omitted undefined stereo\n",
      "RDKit WARNING: [15:39:47] WARNING: Charges were rearranged; Omitted undefined stereo\n",
      "RDKit WARNING: [15:39:47] WARNING: Omitted undefined stereo\n",
      "RDKit WARNING: [15:39:47] WARNING: Omitted undefined stereo\n",
      "RDKit WARNING: [15:39:47] WARNING: Omitted undefined stereo\n",
      "RDKit WARNING: [15:39:47] WARNING: Omitted undefined stereo\n",
      "RDKit WARNING: [15:39:47] WARNING: Omitted undefined stereo\n",
      "RDKit WARNING: [15:39:47] WARNING: Omitted undefined stereo\n",
      "RDKit WARNING: [15:39:47] WARNING: Charges were rearranged\n",
      "RDKit WARNING: [15:39:47] WARNING: Charges were rearranged\n",
      "RDKit WARNING: [15:39:47] WARNING: Charges were rearranged\n",
      "RDKit WARNING: [15:39:47] WARNING: Charges were rearranged\n",
      "RDKit WARNING: [15:39:47] WARNING: Omitted undefined stereo\n",
      "RDKit WARNING: [15:39:47] WARNING: Omitted undefined stereo\n",
      "RDKit WARNING: [15:39:47] WARNING: Omitted undefined stereo\n",
      "RDKit WARNING: [15:39:47] WARNING: Omitted undefined stereo\n",
      "RDKit WARNING: [15:39:47] WARNING: Omitted undefined stereo\n",
      "RDKit WARNING: [15:39:47] WARNING: Omitted undefined stereo\n"
     ]
    },
    {
     "name": "stdout",
     "output_type": "stream",
     "text": [
      "200 molecules successfully imported\n",
      "0 duplicates skipped\n"
     ]
    },
    {
     "data": {
      "text/plain": [
       "200"
      ]
     },
     "execution_count": 5,
     "metadata": {},
     "output_type": "execute_result"
    }
   ],
   "source": [
    "# Write the contents of first_200_props.sdf, a test dataset, into the collection demo_db.molecules.\n",
    "# The index will default to the molecule's inchikey.\n",
    "# Return the number of molecules succesfully imported.\n",
    "write.WriteFromSDF(demo_db.molecules, '../../data/test_data/first_200.props.sdf')"
   ]
  },
  {
   "cell_type": "markdown",
   "metadata": {},
   "source": [
    "The above call is the most basic version of `writeFromSDF`. For additional flexibility, `writeFromSDF` takes several optional arguments—users can specify a custom scheme object, a registration collection to write scheme objects to, how many molecules are inserted at a time (this can affect performance), and limit the number of molecules written in."
   ]
  },
  {
   "cell_type": "code",
   "execution_count": 6,
   "metadata": {},
   "outputs": [
    {
     "name": "stdout",
     "output_type": "stream",
     "text": [
      "populating mongodb collection with compounds from SDF...\n"
     ]
    },
    {
     "name": "stderr",
     "output_type": "stream",
     "text": [
      "RDKit WARNING: [15:39:47] WARNING: Omitted undefined stereo\n",
      "RDKit WARNING: [15:39:47] WARNING: Omitted undefined stereo\n",
      "RDKit WARNING: [15:39:47] WARNING: Omitted undefined stereo\n",
      "RDKit WARNING: [15:39:47] WARNING: Omitted undefined stereo\n",
      "RDKit WARNING: [15:39:47] WARNING: Omitted undefined stereo\n",
      "RDKit WARNING: [15:39:47] WARNING: Omitted undefined stereo\n",
      "RDKit WARNING: [15:39:47] WARNING: Omitted undefined stereo\n",
      "RDKit WARNING: [15:39:47] WARNING: Omitted undefined stereo\n",
      "RDKit WARNING: [15:39:47] WARNING: Omitted undefined stereo\n",
      "RDKit WARNING: [15:39:47] WARNING: Omitted undefined stereo\n",
      "RDKit WARNING: [15:39:47] WARNING: Omitted undefined stereo\n",
      "RDKit WARNING: [15:39:47] WARNING: Omitted undefined stereo\n",
      "RDKit WARNING: [15:39:47] WARNING: Omitted undefined stereo\n",
      "RDKit WARNING: [15:39:47] WARNING: Omitted undefined stereo\n",
      "RDKit WARNING: [15:39:47] WARNING: Omitted undefined stereo\n",
      "RDKit WARNING: [15:39:47] WARNING: Omitted undefined stereo\n",
      "RDKit WARNING: [15:39:47] WARNING: Omitted undefined stereo\n",
      "RDKit WARNING: [15:39:47] WARNING: Omitted undefined stereo\n",
      "RDKit WARNING: [15:39:47] WARNING: Omitted undefined stereo\n",
      "RDKit WARNING: [15:39:47] WARNING: Omitted undefined stereo\n",
      "RDKit WARNING: [15:39:47] WARNING: Omitted undefined stereo\n",
      "RDKit WARNING: [15:39:47] WARNING: Omitted undefined stereo\n",
      "RDKit WARNING: [15:39:47] WARNING: Omitted undefined stereo\n",
      "RDKit WARNING: [15:39:47] WARNING: Omitted undefined stereo\n",
      "RDKit WARNING: [15:39:47] WARNING: Omitted undefined stereo\n",
      "RDKit WARNING: [15:39:47] WARNING: Omitted undefined stereo\n",
      "RDKit WARNING: [15:39:47] WARNING: Omitted undefined stereo\n",
      "RDKit WARNING: [15:39:47] WARNING: Omitted undefined stereo\n",
      "RDKit WARNING: [15:39:47] WARNING: Omitted undefined stereo\n",
      "RDKit WARNING: [15:39:47] WARNING: Omitted undefined stereo\n",
      "RDKit WARNING: [15:39:47] WARNING: Charges were rearranged\n",
      "RDKit WARNING: [15:39:47] WARNING: Charges were rearranged\n",
      "RDKit WARNING: [15:39:47] WARNING: Charges were rearranged\n",
      "RDKit WARNING: [15:39:47] WARNING: Charges were rearranged\n",
      "RDKit WARNING: [15:39:47] WARNING: Charges were rearranged\n",
      "RDKit WARNING: [15:39:47] WARNING: Charges were rearranged\n",
      "RDKit WARNING: [15:39:47] WARNING: Omitted undefined stereo\n",
      "RDKit WARNING: [15:39:47] WARNING: Omitted undefined stereo\n",
      "RDKit WARNING: [15:39:47] WARNING: Omitted undefined stereo\n",
      "RDKit WARNING: [15:39:47] WARNING: Omitted undefined stereo\n",
      "RDKit WARNING: [15:39:47] WARNING: Omitted undefined stereo\n",
      "RDKit WARNING: [15:39:47] WARNING: Omitted undefined stereo\n",
      "RDKit WARNING: [15:39:48] WARNING: Charges were rearranged\n",
      "RDKit WARNING: [15:39:48] WARNING: Charges were rearranged\n",
      "RDKit WARNING: [15:39:48] WARNING: Omitted undefined stereo\n",
      "RDKit WARNING: [15:39:48] WARNING: Omitted undefined stereo\n",
      "RDKit WARNING: [15:39:48] WARNING: Omitted undefined stereo\n",
      "RDKit WARNING: [15:39:48] WARNING: Omitted undefined stereo\n",
      "RDKit WARNING: [15:39:48] WARNING: Omitted undefined stereo\n",
      "RDKit WARNING: [15:39:48] WARNING: Omitted undefined stereo\n",
      "RDKit WARNING: [15:39:48] WARNING: Omitted undefined stereo\n",
      "RDKit WARNING: [15:39:48] WARNING: Omitted undefined stereo\n",
      "RDKit WARNING: [15:39:50] WARNING: Charges were rearranged\n",
      "RDKit WARNING: [15:39:50] WARNING: Charges were rearranged\n",
      "RDKit WARNING: [15:39:50] WARNING: Charges were rearranged\n",
      "RDKit WARNING: [15:39:50] WARNING: Charges were rearranged\n",
      "RDKit WARNING: [15:39:50] WARNING: Charges were rearranged\n",
      "RDKit WARNING: [15:39:50] WARNING: Charges were rearranged\n",
      "RDKit WARNING: [15:39:50] WARNING: Omitted undefined stereo\n",
      "RDKit WARNING: [15:39:50] WARNING: Omitted undefined stereo\n",
      "RDKit WARNING: [15:39:50] WARNING: Charges were rearranged; Omitted undefined stereo\n",
      "RDKit WARNING: [15:39:50] WARNING: Charges were rearranged; Omitted undefined stereo\n",
      "RDKit WARNING: [15:39:50] WARNING: Charges were rearranged\n",
      "RDKit WARNING: [15:39:50] WARNING: Charges were rearranged\n",
      "RDKit WARNING: [15:39:50] WARNING: Charges were rearranged\n",
      "RDKit WARNING: [15:39:50] WARNING: Charges were rearranged\n",
      "RDKit WARNING: [15:39:50] WARNING: Charges were rearranged\n",
      "RDKit WARNING: [15:39:50] WARNING: Charges were rearranged\n",
      "RDKit WARNING: [15:39:50] WARNING: Omitted undefined stereo\n",
      "RDKit WARNING: [15:39:50] WARNING: Omitted undefined stereo\n",
      "RDKit WARNING: [15:39:50] WARNING: Omitted undefined stereo\n",
      "RDKit WARNING: [15:39:50] WARNING: Omitted undefined stereo\n",
      "RDKit WARNING: [15:39:50] WARNING: Omitted undefined stereo\n",
      "RDKit WARNING: [15:39:50] WARNING: Omitted undefined stereo\n",
      "RDKit WARNING: [15:39:50] WARNING: Omitted undefined stereo\n",
      "RDKit WARNING: [15:39:50] WARNING: Omitted undefined stereo\n",
      "RDKit WARNING: [15:39:50] WARNING: Charges were rearranged\n",
      "RDKit WARNING: [15:39:50] WARNING: Charges were rearranged\n",
      "RDKit WARNING: [15:39:50] WARNING: Accepted unusual valence(s): Cu(4); Metal was disconnected\n",
      "RDKit WARNING: [15:39:50] WARNING: Accepted unusual valence(s): Cu(4); Metal was disconnected\n",
      "RDKit WARNING: [15:39:50] WARNING: Omitted undefined stereo\n",
      "RDKit WARNING: [15:39:50] WARNING: Omitted undefined stereo\n",
      "RDKit WARNING: [15:39:50] WARNING: Omitted undefined stereo\n",
      "RDKit WARNING: [15:39:50] WARNING: Omitted undefined stereo\n",
      "RDKit WARNING: [15:39:50] WARNING: Omitted undefined stereo\n",
      "RDKit WARNING: [15:39:50] WARNING: Omitted undefined stereo\n",
      "RDKit WARNING: [15:39:50] WARNING: Omitted undefined stereo\n",
      "RDKit WARNING: [15:39:50] WARNING: Omitted undefined stereo\n",
      "RDKit WARNING: [15:39:50] WARNING: Omitted undefined stereo\n"
     ]
    },
    {
     "name": "stdout",
     "output_type": "stream",
     "text": [
      "100 molecules successfully imported\n",
      "0 duplicates skipped\n"
     ]
    },
    {
     "data": {
      "text/plain": [
       "100"
      ]
     },
     "execution_count": 6,
     "metadata": {},
     "output_type": "execute_result"
    }
   ],
   "source": [
    "# Write the first 100 molecules of first_200_props.sdf, a test dataset, into demo_db.molecules\n",
    "# This write will use canonical SMILES as the identifying index and thus does not conflict with the above write. \n",
    "# If we had used inchikey again, the write would have imported 0 molecules.\n",
    "scheme = registration.MolDocScheme()\n",
    "scheme.set_index('CanonicalSmiles')\n",
    "write.WriteFromSDF(demo_db.molecules, '../../data/test_data/first_200.props.sdf', \n",
    "                   scheme, reg_collection=demo_db.schema, chunk_size=50, limit=100)"
   ]
  },
  {
   "cell_type": "markdown",
   "metadata": {},
   "source": [
    "In the case that users aren't working with an SDF, `.write` also provides `WriteFromMolList`, which will take a Python list of rdmol objects in place of the SDF argument in `WriteFromSDF`."
   ]
  },
  {
   "cell_type": "markdown",
   "metadata": {},
   "source": [
    "## `.create` Module Contents\n",
    "\n",
    "mongordkit.Database.create.**createFromHostPort**(database_name, host=None (*string*), port=None (*string*)) --> *a MongoDB database instance named database_name*\n",
    "\n",
    "mongordkit.Database.create.**createFromURL**(database_name, url=None (*string*)) --> *a MongoDB database instance named database_name*"
   ]
  },
  {
   "cell_type": "markdown",
   "metadata": {},
   "source": [
    "## `.registration` Module Contents"
   ]
  },
  {
   "cell_type": "code",
   "execution_count": 7,
   "metadata": {},
   "outputs": [
    {
     "data": {
      "text/plain": [
       "{'AnonymousGraph': <function mongordkit.Database.registration.<lambda>(rdmol, f=rdkit.Chem.rdMolHash.HashFunction.AnonymousGraph)>,\n",
       " 'ElementGraph': <function mongordkit.Database.registration.<lambda>(rdmol, f=rdkit.Chem.rdMolHash.HashFunction.ElementGraph)>,\n",
       " 'CanonicalSmiles': <function mongordkit.Database.registration.<lambda>(rdmol, f=rdkit.Chem.rdMolHash.HashFunction.CanonicalSmiles)>,\n",
       " 'MurckoScaffold': <function mongordkit.Database.registration.<lambda>(rdmol, f=rdkit.Chem.rdMolHash.HashFunction.MurckoScaffold)>,\n",
       " 'ExtendedMurcko': <function mongordkit.Database.registration.<lambda>(rdmol, f=rdkit.Chem.rdMolHash.HashFunction.ExtendedMurcko)>,\n",
       " 'MolFormula': <function mongordkit.Database.registration.<lambda>(rdmol, f=rdkit.Chem.rdMolHash.HashFunction.MolFormula)>,\n",
       " 'AtomBondCounts': <function mongordkit.Database.registration.<lambda>(rdmol, f=rdkit.Chem.rdMolHash.HashFunction.AtomBondCounts)>,\n",
       " 'DegreeVector': <function mongordkit.Database.registration.<lambda>(rdmol, f=rdkit.Chem.rdMolHash.HashFunction.DegreeVector)>,\n",
       " 'Mesomer': <function mongordkit.Database.registration.<lambda>(rdmol, f=rdkit.Chem.rdMolHash.HashFunction.Mesomer)>,\n",
       " 'HetAtomTautomer': <function mongordkit.Database.registration.<lambda>(rdmol, f=rdkit.Chem.rdMolHash.HashFunction.HetAtomTautomer)>,\n",
       " 'HetAtomProtomer': <function mongordkit.Database.registration.<lambda>(rdmol, f=rdkit.Chem.rdMolHash.HashFunction.HetAtomProtomer)>,\n",
       " 'RedoxPair': <function mongordkit.Database.registration.<lambda>(rdmol, f=rdkit.Chem.rdMolHash.HashFunction.RedoxPair)>,\n",
       " 'Regioisomer': <function mongordkit.Database.registration.<lambda>(rdmol, f=rdkit.Chem.rdMolHash.HashFunction.Regioisomer)>,\n",
       " 'NetCharge': <function mongordkit.Database.registration.<lambda>(rdmol, f=rdkit.Chem.rdMolHash.HashFunction.NetCharge)>,\n",
       " 'SmallWorldIndexBR': <function mongordkit.Database.registration.<lambda>(rdmol, f=rdkit.Chem.rdMolHash.HashFunction.SmallWorldIndexBR)>,\n",
       " 'SmallWorldIndexBRL': <function mongordkit.Database.registration.<lambda>(rdmol, f=rdkit.Chem.rdMolHash.HashFunction.SmallWorldIndexBRL)>,\n",
       " 'ArthorSubstructureOrder': <function mongordkit.Database.registration.<lambda>(rdmol, f=rdkit.Chem.rdMolHash.HashFunction.ArthorSubstructureOrder)>,\n",
       " 'inchi_standard': <function rdkit.Chem.inchi.MolToInchi(mol, options='', logLevel=None, treatWarningAsError=False)>,\n",
       " 'inchikey_standard': <function rdkit.Chem.inchi.MolToInchiKey(mol, options='')>,\n",
       " 'inchi_KET_15T': <function mongordkit.Database.registration.<lambda>(rdmol)>,\n",
       " 'inchikey_KET_15T': <function mongordkit.Database.registration.<lambda>(rdmol)>,\n",
       " 'noiso_smiles': <function mongordkit.Database.registration.<lambda>(rdmol)>,\n",
       " 'cx_smiles': <function rdkit.Chem.rdmolfiles.MolToCXSmiles>}"
      ]
     },
     "execution_count": 7,
     "metadata": {},
     "output_type": "execute_result"
    }
   ],
   "source": [
    "registration.HASH_FUNCTIONS"
   ]
  },
  {
   "cell_type": "markdown",
   "metadata": {},
   "source": [
    "**Class** mongordkit.Database.registration.**MolDocScheme()**\n",
    "\n",
    "**Instance variables**:\n",
    "```\n",
    "self.scheme_name = DEFAULT_SCHEME_NAME\n",
    "self.author = DEFAULT_AUTHOR\n",
    "self.pre_processed = DEFAULT_PREPROCESS\n",
    "self.index_option = DEFAULT_INDEX\n",
    "self.hashes = set(HASH_FUNCTIONS.keys())\n",
    "self.fingerprints = {}\n",
    "self.value_fields = {}\n",
    "```\n",
    "**Instance methods**:\n",
    "- set_index(self, new_index) --> *None*\n",
    "- get_index_value(self, rdmol) --> *calculated index value*\n",
    "- add_hash_field(self, field_name, field_method) --> *None*\n",
    "- add_value_field(self, field_name, field_value) --> *None*\n",
    "- add_all_hashes(self) --> *None*\n",
    "- remove_field(self, field_name) --> *None*\n",
    "- generate_mol_doc(self, rdmol) --> *Dict: document representing molecule according to scheme*"
   ]
  },
  {
   "cell_type": "markdown",
   "metadata": {},
   "source": [
    "## `.write` Module Contents"
   ]
  },
  {
   "cell_type": "markdown",
   "metadata": {},
   "source": [
    "mongordkit.Database.write.**WriteFromSDF**(database, sdf, scheme=MolDocScheme(), reg_collection=None, chunk_size=100, limit=None, warnings=False (*Make this true to turn on rdkit warnings*) --> *int: number of molecules imported*\n",
    "\n",
    "mongordkit.Database.write.**WriteFromMolList**(database, list, scheme=MolDocScheme(), reg_collection=None, chunk_size=100, limit=None) --> *int: number of molecules imported*"
   ]
  }
 ],
 "metadata": {
  "kernelspec": {
   "display_name": "py37_rdkit_beta",
   "language": "python",
   "name": "py37_rdkit_beta"
  },
  "language_info": {
   "codemirror_mode": {
    "name": "ipython",
    "version": 3
   },
   "file_extension": ".py",
   "mimetype": "text/x-python",
   "name": "python",
   "nbconvert_exporter": "python",
   "pygments_lexer": "ipython3",
   "version": "3.7.7"
  }
 },
 "nbformat": 4,
 "nbformat_minor": 4
}
