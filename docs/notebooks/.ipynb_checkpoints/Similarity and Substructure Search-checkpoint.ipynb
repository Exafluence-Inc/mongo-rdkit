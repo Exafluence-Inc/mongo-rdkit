{
 "cells": [
  {
   "cell_type": "markdown",
   "metadata": {},
   "source": [
    "# Similarity and Substructure Search\n",
    "\n",
    "Last updated: 7/27/20\n",
    "\n",
    "Methods for similarity and substructure search are included in the `mongordkit.Search` module."
   ]
  },
  {
   "cell_type": "code",
   "execution_count": 1,
   "metadata": {},
   "outputs": [],
   "source": [
    "from mongordkit.Search import similarity, substructure, utils\n",
    "from mongordkit import Search\n",
    "from mongordkit.Database import create, write\n",
    "from rdkit import Chem\n",
    "import pymongo"
   ]
  },
  {
   "cell_type": "markdown",
   "metadata": {},
   "source": [
    "## Reset Cells\n",
    "\n",
    "Run these cells to reset the MongoDB database used in this notebook."
   ]
  },
  {
   "cell_type": "code",
   "execution_count": 2,
   "metadata": {},
   "outputs": [],
   "source": [
    "client = pymongo.MongoClient()\n",
    "client.drop_database('demo_db')\n",
    "demo_db = client.demo_db"
   ]
  },
  {
   "cell_type": "markdown",
   "metadata": {},
   "source": [
    "## Preparing for Search\n",
    "Adequately preparing the database for searching requires adding a variety of fingerprints and hashes. You can easily perform all of the setup work required for similarity and substructure search by calling the method `Search.PrepareForSearch`. Generally, workflow will follow straight from the following two lines into search calls:"
   ]
  },
  {
   "cell_type": "code",
   "execution_count": 3,
   "metadata": {
    "scrolled": true
   },
   "outputs": [
    {
     "name": "stdout",
     "output_type": "stream",
     "text": [
      "populating mongodb collection with compounds from SDF...\n"
     ]
    },
    {
     "name": "stderr",
     "output_type": "stream",
     "text": [
      "RDKit WARNING: [22:56:20] WARNING: Charges were rearranged\n",
      "RDKit WARNING: [22:56:20] WARNING: Charges were rearranged\n",
      "RDKit WARNING: [22:56:20] WARNING: Charges were rearranged\n",
      "RDKit WARNING: [22:56:20] WARNING: Charges were rearranged\n",
      "RDKit WARNING: [22:56:20] WARNING: Charges were rearranged\n",
      "RDKit WARNING: [22:56:20] WARNING: Charges were rearranged\n",
      "RDKit WARNING: [22:56:20] WARNING: Omitted undefined stereo\n",
      "RDKit WARNING: [22:56:20] WARNING: Omitted undefined stereo\n",
      "RDKit WARNING: [22:56:20] WARNING: Charges were rearranged; Omitted undefined stereo\n",
      "RDKit WARNING: [22:56:20] WARNING: Charges were rearranged; Omitted undefined stereo\n",
      "RDKit WARNING: [22:56:20] WARNING: Charges were rearranged\n",
      "RDKit WARNING: [22:56:20] WARNING: Charges were rearranged\n",
      "RDKit WARNING: [22:56:20] WARNING: Charges were rearranged\n",
      "RDKit WARNING: [22:56:20] WARNING: Charges were rearranged\n",
      "RDKit WARNING: [22:56:20] WARNING: Charges were rearranged\n",
      "RDKit WARNING: [22:56:20] WARNING: Charges were rearranged\n",
      "RDKit WARNING: [22:56:20] WARNING: Omitted undefined stereo\n",
      "RDKit WARNING: [22:56:20] WARNING: Omitted undefined stereo\n",
      "RDKit WARNING: [22:56:20] WARNING: Omitted undefined stereo\n",
      "RDKit WARNING: [22:56:20] WARNING: Omitted undefined stereo\n",
      "RDKit WARNING: [22:56:20] WARNING: Omitted undefined stereo\n",
      "RDKit WARNING: [22:56:20] WARNING: Omitted undefined stereo\n",
      "RDKit WARNING: [22:56:20] WARNING: Omitted undefined stereo\n",
      "RDKit WARNING: [22:56:20] WARNING: Omitted undefined stereo\n",
      "RDKit WARNING: [22:56:20] WARNING: Charges were rearranged\n",
      "RDKit WARNING: [22:56:20] WARNING: Charges were rearranged\n",
      "RDKit WARNING: [22:56:20] WARNING: Accepted unusual valence(s): Cu(4); Metal was disconnected\n",
      "RDKit WARNING: [22:56:20] WARNING: Accepted unusual valence(s): Cu(4); Metal was disconnected\n",
      "RDKit WARNING: [22:56:20] WARNING: Omitted undefined stereo\n",
      "RDKit WARNING: [22:56:20] WARNING: Omitted undefined stereo\n",
      "RDKit WARNING: [22:56:20] WARNING: Omitted undefined stereo\n",
      "RDKit WARNING: [22:56:20] WARNING: Omitted undefined stereo\n",
      "RDKit WARNING: [22:56:20] WARNING: Omitted undefined stereo\n",
      "RDKit WARNING: [22:56:20] WARNING: Omitted undefined stereo\n",
      "RDKit WARNING: [22:56:20] WARNING: Omitted undefined stereo\n",
      "RDKit WARNING: [22:56:20] WARNING: Omitted undefined stereo\n",
      "RDKit WARNING: [22:56:20] WARNING: Omitted undefined stereo\n",
      "RDKit WARNING: [22:56:20] WARNING: Omitted undefined stereo\n",
      "RDKit WARNING: [22:56:20] WARNING: Omitted undefined stereo\n",
      "RDKit WARNING: [22:56:20] WARNING: Omitted undefined stereo\n",
      "RDKit WARNING: [22:56:20] WARNING: Omitted undefined stereo\n",
      "RDKit WARNING: [22:56:20] WARNING: Omitted undefined stereo\n",
      "RDKit WARNING: [22:56:20] WARNING: Omitted undefined stereo\n",
      "RDKit WARNING: [22:56:20] WARNING: Omitted undefined stereo\n",
      "RDKit WARNING: [22:56:20] WARNING: Omitted undefined stereo\n",
      "RDKit WARNING: [22:56:20] WARNING: Omitted undefined stereo\n",
      "RDKit WARNING: [22:56:20] WARNING: Omitted undefined stereo\n",
      "RDKit WARNING: [22:56:20] WARNING: Accepted unusual valence(s): Cu(4); Metal was disconnected; Omitted undefined stereo\n",
      "RDKit WARNING: [22:56:20] WARNING: Accepted unusual valence(s): Cu(4); Metal was disconnected; Omitted undefined stereo\n",
      "RDKit WARNING: [22:56:20] WARNING: Omitted undefined stereo\n",
      "RDKit WARNING: [22:56:20] WARNING: Omitted undefined stereo\n",
      "RDKit WARNING: [22:56:20] WARNING: Charges were rearranged\n",
      "RDKit WARNING: [22:56:20] WARNING: Charges were rearranged\n",
      "RDKit WARNING: [22:56:20] WARNING: Charges were rearranged\n",
      "RDKit WARNING: [22:56:20] WARNING: Charges were rearranged\n",
      "RDKit WARNING: [22:56:20] WARNING: Omitted undefined stereo\n",
      "RDKit WARNING: [22:56:20] WARNING: Omitted undefined stereo\n",
      "RDKit WARNING: [22:56:20] WARNING: Omitted undefined stereo\n",
      "RDKit WARNING: [22:56:20] WARNING: Omitted undefined stereo\n",
      "RDKit WARNING: [22:56:20] WARNING: Omitted undefined stereo\n",
      "RDKit WARNING: [22:56:20] WARNING: Omitted undefined stereo\n",
      "RDKit WARNING: [22:56:20] WARNING: Omitted undefined stereo\n",
      "RDKit WARNING: [22:56:20] WARNING: Omitted undefined stereo\n",
      "RDKit WARNING: [22:56:21] WARNING: Omitted undefined stereo\n",
      "RDKit WARNING: [22:56:21] WARNING: Omitted undefined stereo\n",
      "RDKit WARNING: [22:56:21] WARNING: Omitted undefined stereo\n",
      "RDKit WARNING: [22:56:21] WARNING: Omitted undefined stereo\n",
      "RDKit WARNING: [22:56:21] WARNING: Charges were rearranged; Omitted undefined stereo\n",
      "RDKit WARNING: [22:56:21] WARNING: Charges were rearranged; Omitted undefined stereo\n",
      "RDKit WARNING: [22:56:21] WARNING: Omitted undefined stereo\n",
      "RDKit WARNING: [22:56:21] WARNING: Omitted undefined stereo\n",
      "RDKit WARNING: [22:56:21] WARNING: Omitted undefined stereo\n",
      "RDKit WARNING: [22:56:21] WARNING: Omitted undefined stereo\n",
      "RDKit WARNING: [22:56:21] WARNING: Omitted undefined stereo\n",
      "RDKit WARNING: [22:56:21] WARNING: Omitted undefined stereo\n",
      "RDKit WARNING: [22:56:21] WARNING: Charges were rearranged\n",
      "RDKit WARNING: [22:56:21] WARNING: Charges were rearranged\n",
      "RDKit WARNING: [22:56:21] WARNING: Charges were rearranged\n",
      "RDKit WARNING: [22:56:21] WARNING: Charges were rearranged\n",
      "RDKit WARNING: [22:56:21] WARNING: Omitted undefined stereo\n",
      "RDKit WARNING: [22:56:21] WARNING: Omitted undefined stereo\n",
      "RDKit WARNING: [22:56:21] WARNING: Omitted undefined stereo\n",
      "RDKit WARNING: [22:56:21] WARNING: Omitted undefined stereo\n",
      "RDKit WARNING: [22:56:21] WARNING: Omitted undefined stereo\n",
      "RDKit WARNING: [22:56:21] WARNING: Omitted undefined stereo\n"
     ]
    },
    {
     "name": "stdout",
     "output_type": "stream",
     "text": [
      "200 molecules successfully imported\n",
      "0 duplicates skipped\n",
      "Preparing database and collections for search...\n",
      "Added pattern fps, morgan fps, and support for LSH.\n"
     ]
    }
   ],
   "source": [
    "write.WriteFromSDF(demo_db.molecules, '../../data/test_data/first_200.props.sdf')\n",
    "Search.PrepareForSearch(demo_db, demo_db.molecules, demo_db.mfp_counts, demo_db.permutations)"
   ]
  },
  {
   "cell_type": "markdown",
   "metadata": {},
   "source": [
    "However, the rest of this notebook will explicitly note the addition of fingerprints and hashes in an effort to better communicate how the code actually works. Let's reset the database again so that we can insert the hashes step by step without any issues."
   ]
  },
  {
   "cell_type": "code",
   "execution_count": null,
   "metadata": {},
   "outputs": [],
   "source": [
    "client.drop_database('demo_db')\n",
    "demo_db = client.demo_db"
   ]
  },
  {
   "cell_type": "markdown",
   "metadata": {},
   "source": [
    "## Similarity Search\n",
    "\n",
    "`mongordkit.Search.similarity` supports similarity search best on a MongoDB collection prepared by `mongordkit.Database.write`. For the general level of similarity search, users can also use any collection that has documents with the following fields:\n",
    "- `'rdmol': binary pickle object`\n",
    "- `'index': a unique identifier for each molecule`\n",
    "- `'fingerprints': {a nested document that can be blank at the start}'`"
   ]
  },
  {
   "cell_type": "markdown",
   "metadata": {},
   "source": [
    "Let's run through an example of similarity search. First, we'll write into the database 200 molecules from a data file included in the `mongordkit` package. We will use default write settings."
   ]
  },
  {
   "cell_type": "code",
   "execution_count": null,
   "metadata": {
    "scrolled": true
   },
   "outputs": [],
   "source": [
    "write.WriteFromSDF(demo_db.molecules, '../../data/test_data/first_200.props.sdf')"
   ]
  },
  {
   "cell_type": "markdown",
   "metadata": {},
   "source": [
    "`similarity.SimSearchNaive` will directly loop through the database and display results. This is good for purposes of verifying accuracy. However, this implementation is extremely slow for any decently-sized database. Instead, `similarity` supports precalculating the following kinds of fingerprints for screening: \n",
    "- Morgan (default radius 2, length 2048)\n",
    "\n",
    "through `similarity.AddMorganFingerprints`. For each document in a passed in collection, this method adds the nested field `{morgan_fp: {bits: }, {count: }}` to the document's `fingerprint` field. `AddMorganFingerprints` also creates indices on `morgan_fp[bits]` and `morgan_fp[count]` to speed search. "
   ]
  },
  {
   "cell_type": "code",
   "execution_count": null,
   "metadata": {},
   "outputs": [],
   "source": [
    "similarity.AddMorganFingerprints(demo_db.molecules, demo_db.mfp_counts)"
   ]
  },
  {
   "cell_type": "code",
   "execution_count": null,
   "metadata": {},
   "outputs": [],
   "source": [
    "demo_db.molecules.find_one()['fingerprints']['morgan_fp']"
   ]
  },
  {
   "cell_type": "markdown",
   "metadata": {},
   "source": [
    "From here, we can directly perform similarity search. `similarity` provides two methods that take advantage of fingerprint screening: `similaritySearch` and `similaritySearchAggregate`. The latter shifts much of the computation into the MongoDB server by using an aggregation pipeline and can dramatically improve performance when working with sharded MongoDB servers."
   ]
  },
  {
   "cell_type": "code",
   "execution_count": null,
   "metadata": {},
   "outputs": [],
   "source": [
    "q_mol = Chem.MolFromSmiles('Cc1ccccc1')\n",
    "\n",
    "# Perform a similarity search on TestDB for q_mol with a Tanimoto threshold of 0.4. \n",
    "results1 = similarity.SimSearch(q_mol, demo_db.molecules, demo_db.mfp_counts, 0.8)\n",
    "\n",
    "# Do the same thing, but use the MongoDB Aggregation Pipeline. \n",
    "results2 = similarity.SimSearchAggregate(q_mol, demo_db.molecules, demo_db.mfp_counts, 0.8)\n",
    "\n",
    "print('similaritySearch: {}'.format(results1))\n",
    "print('\\n')\n",
    "print('similaritySearchAggregate: {}'.format(results2))"
   ]
  },
  {
   "cell_type": "markdown",
   "metadata": {},
   "source": [
    "Note that the search returns only the index for the molecule, which in this case is the inchikey; users should find it easy to go from the index to the full molecule document by way of a quick search. This also makes it easier for users to retrieve molecules when indices represent multiple tautomers or isomers in the collection.\n",
    "\n",
    "`SimSearch` and `SimSearchAggregate` both make use of the conventional fingerprint screening method. `similarity` also supports searching using Locality Sensitive Hashing, as developed by ChemBL in an excellent [blog post](http://chembl.blogspot.com/2015/08/lsh-based-similarity-search-in-mongodb.html). The method here is called `SimSearchLSH` and requires a little bit more setup work:"
   ]
  },
  {
   "cell_type": "code",
   "execution_count": null,
   "metadata": {},
   "outputs": [],
   "source": [
    "# Generate 100 different permutations of length 2048 and save them in demo_db.permutations as separate documents.\n",
    "similarity.AddRandPermutations(demo_db.permutations)\n",
    "\n",
    "# Add locality-sensitive hash values to each documents in demo_db.molecules by splitting the 100 different permutations\n",
    "# in demo_db.permutations into 25 different buckets. \n",
    "similarity.AddLocalityHashes(demo_db.molecules, demo_db.permutations, 25)\n",
    "\n",
    "# Create 25 different collections in db_demo each store a subset of hash values for molecules in demo_db.molecules.\n",
    "similarity.AddHashCollections(demo_db, demo_db.molecules)"
   ]
  },
  {
   "cell_type": "markdown",
   "metadata": {},
   "source": [
    "Now let's try a search using the query molecule from earlier:"
   ]
  },
  {
   "cell_type": "code",
   "execution_count": null,
   "metadata": {},
   "outputs": [],
   "source": [
    "q_mol = Chem.MolFromSmiles('Cc1ccccc1')\n",
    "\n",
    "results3 = similarity.SimSearchLSH(q_mol, demo_db, demo_db.molecules, demo_db.permutations, threshold=0.8)\n",
    "\n",
    "print('similaritySearchLSH: {}'.format(results3))"
   ]
  },
  {
   "cell_type": "markdown",
   "metadata": {},
   "source": [
    "The LSH algorithm relies on random permutations using the `numpy` module, so it yields non-deterministic results. This means that LSH is well-suited for *scanning* datasets (its performance on large datasets is faster than either similarity search method), but is less accurate than regular similarity search, especially below thresholds of 0.7. Specific notes on benchmarks can be found in \"Benchmarking Similarity Search.\""
   ]
  },
  {
   "cell_type": "markdown",
   "metadata": {},
   "source": [
    "## Substructure Search\n",
    "\n",
    "`mongordkit.Search.substructure` supports substructure search best on collections prepared by `write`. Requirements are identical to those for similarity search: a `molecules` collection whose documents have `rdmol` and `index` fields. \n",
    "\n",
    "`substructure.SubSearchNaive` provides a fingerprint-less, slower implementation of substructure search suitable for very small databases:"
   ]
  },
  {
   "cell_type": "code",
   "execution_count": null,
   "metadata": {},
   "outputs": [],
   "source": [
    "q_mol = Chem.MolFromSmiles('C1=CC=CC=C1OC')\n",
    "\n",
    "# Perform a substructure search for q_mol on TestDB. \n",
    "substructure.SubSearchNaive(q_mol, demo_db.molecules, chirality=False)"
   ]
  },
  {
   "cell_type": "markdown",
   "metadata": {},
   "source": [
    "By adding pattern fingerprints, which are optimized for substructure search, we can use `substructure.SubSearch`, which takes advantage of fingerprint screening to avoid as many expensive calls to `HasSubstructMatch` as possible. "
   ]
  },
  {
   "cell_type": "code",
   "execution_count": null,
   "metadata": {},
   "outputs": [],
   "source": [
    "substructure.AddPatternFingerprints(demo_db.molecules)\n",
    "substructure.SubSearch(q_mol, demo_db.molecules, chirality=False)"
   ]
  },
  {
   "cell_type": "markdown",
   "metadata": {},
   "source": [
    "## `.Search` contents"
   ]
  },
  {
   "cell_type": "markdown",
   "metadata": {},
   "source": [
    "mongordkit.Search.**PrepareForSearch**(db (*MongoDB database for hash information*), mol_collection (*MongoDB collection*), count_collection (*MongoDB collection*), perm_collection (*MongoDB collection*)) --> None"
   ]
  },
  {
   "cell_type": "markdown",
   "metadata": {},
   "source": [
    "## `.similarity` Contents\n",
    "\n",
    "### Constants:\n",
    "- DEFAULT_THRESHOLD = 0.8\n",
    "- DEFAULT_MORGAN_RADIUS = 2\n",
    "- DEFAULT_MORGAN_LENGTH = 2048\n",
    "- DEFAULT_BIT_N = 2048\n",
    "- DEFAULT_BUCKET_N = 25\n",
    "- DEFAULT_PERM_LEN = 2048\n",
    "- DEFAULT_PERM_N = 100\n",
    "\n",
    "mongordkit.Search.similarity.**AddMorganFingerprints**(mol_collection (*MongoDB collection*), count_collection (*MongoDB collection*), radius=2 (*int: radius of Morgan fingerprint*), length=2048 (*int: length of Morgan fingerprint bit vector*)) --> None\n",
    "\n",
    "mongordkit.Search.similarity.**SimSearchNaive**(mol (*rdmol object*), mol_collection (*MongoDB collection*), threshold=0.8 (*Tanimoto threshold between 0 and 1, float*)) --> *list: results with format [tanimoto, index]*\n",
    "\n",
    "mongordkit.Search.similarity.**SimSearch**(mol (*rdmol object*), mol_collection (*MongoDB collection*), threshold=0.8 (*Tanimoto threshold between 0 and 1, float*)) --> *list: results with format [tanimoto, index]*\n",
    "\n",
    "mongordkit.Search.similarity.**SimSearchAggregate**(mol (*rdmol object*), mol_collection (*MongoDB collection*), threshold=0.8 (*Tanimoto threshold between 0 and 1, float*)) --> *list: results with format [tanimoto, index]*\n",
    "\n",
    "mongordkit.Search.similarity.**AddRandPermutations**(perm_collection (*MongoDB collection*), len=2048 (*int: length corresponding to length of fingerprint bit vectors*), num=100 (*int: number of permutations*)) --> None\n",
    "\n",
    "mongordkit.Search.similarity.**AddLocalityHashes**(mol_collection (*MongoDB collection*), perm_collection (*MongoDB collection*), nBuckets=25 (*int: number of hash buckets. The number of permutations (mod NBuckets) must be 0*)) --> None\n",
    "\n",
    "mongordkit.Search.similarity.**AddHashCollections**(db (*MongoDB database*), mol_collection (*MongoDB collection*)) --> None\n",
    "\n",
    "mongordkit.Search.similarity.**SimSearchLSH**(mol (*rdmol object*), db (*MongoDB database containing hash collections*), mol_collection (*MongoDB collection*), perm_collection (*MongoDB collection*), threshold=0.8 (*Tanimoto threshold between 0 and 1, float*)) --> *list: results with format [tanimoto, index]*"
   ]
  },
  {
   "cell_type": "markdown",
   "metadata": {},
   "source": [
    "## `.substructure` Contents\n",
    "\n",
    "mongordkit.Search.substructure.**AddPatternFingerprints**(mol_collection (MongoDB collection), length=2048 (*int: length of Pattern fingerprint bit vector*)) --> None\n",
    "\n",
    "mongordkit.Search.similarity.**SubSearchNaive**(pattern (*rdmol object*), db, chirality=False (*boolean: include chirality in search or not*)) --> *list: results with format [smiles]*\n",
    "\n",
    "mongordkit.Search.similarity.**SubSearch**(pattern (*rdmol object*), db, chirality=False (*boolean: include chirality in search or not*)) --> *list: results with format [smiles]*"
   ]
  }
 ],
 "metadata": {
  "kernelspec": {
   "display_name": "py37_rdkit_beta",
   "language": "python",
   "name": "py37_rdkit_beta"
  },
  "language_info": {
   "codemirror_mode": {
    "name": "ipython",
    "version": 3
   },
   "file_extension": ".py",
   "mimetype": "text/x-python",
   "name": "python",
   "nbconvert_exporter": "python",
   "pygments_lexer": "ipython3",
   "version": "3.7.7"
  }
 },
 "nbformat": 4,
 "nbformat_minor": 4
}
