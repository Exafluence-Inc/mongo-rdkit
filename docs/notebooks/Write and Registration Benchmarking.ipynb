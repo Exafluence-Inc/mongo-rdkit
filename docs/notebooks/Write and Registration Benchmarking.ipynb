{
 "cells": [
  {
   "cell_type": "markdown",
   "metadata": {},
   "source": [
    "# Write and Registration Benchmarks\n",
    "\n",
    "These benchmarks were originally run on an early 2015 MacBook Pro with a 2.7 GHz dual-core i5 processor and 8GB of memory. All molecules are written into a data directory stored locally via `--dbpath`.\n",
    "\n",
    "They make use of molecules found in the data folder. \n",
    "\n",
    "Last updated: 8/24/20 by Christopher Zou\n",
    "\n",
    "## Setup Work\n",
    "### Imports"
   ]
  },
  {
   "cell_type": "code",
   "execution_count": 1,
   "metadata": {},
   "outputs": [],
   "source": [
    "from mongordkit.Database import write, registration\n",
    "from rdkit import Chem\n",
    "import rdkit\n",
    "import numpy as np\n",
    "import time\n",
    "import pymongo\n",
    "import mongomock\n",
    "import matplotlib\n",
    "import matplotlib.pyplot as plt"
   ]
  },
  {
   "cell_type": "markdown",
   "metadata": {},
   "source": [
    "### Database Setup\n",
    "Here we set up a database called `test` that will hold our molecules. We will construct a collection called `molecules_write_testing` to benchmark the speed of writing to a collection."
   ]
  },
  {
   "cell_type": "code",
   "execution_count": 2,
   "metadata": {},
   "outputs": [],
   "source": [
    "# Initialize the client that will connect to the database.\n",
    "client = pymongo.MongoClient()\n",
    "db = client.test\n",
    "db.molecules_write_testing.drop()"
   ]
  },
  {
   "cell_type": "markdown",
   "metadata": {},
   "source": [
    "### Defining Some Useful Variables"
   ]
  },
  {
   "cell_type": "code",
   "execution_count": 3,
   "metadata": {},
   "outputs": [],
   "source": [
    "hash_functions = registration.HASH_FUNCTIONS\n",
    "first_200_mols = '../../data/test_data/first_200.props.sdf'\n",
    "chembl = '../../../chembl_27.sdf'\n",
    "\n",
    "# Disable RDLogger to reduce system output.\n",
    "rdkit.RDLogger.DisableLog('rdApp.*')"
   ]
  },
  {
   "cell_type": "markdown",
   "metadata": {},
   "source": [
    "## Benchmarking Write"
   ]
  },
  {
   "cell_type": "markdown",
   "metadata": {},
   "source": [
    "We want to know the performance of `write.WriteFromSDF`. To find out, let's write the first 1000-10000 (incrementing by 1000 every time) molecules of a ChEMBL dataset using a scheme that contains all 23 available hashes and take median write times:"
   ]
  },
  {
   "cell_type": "code",
   "execution_count": null,
   "metadata": {},
   "outputs": [
    {
     "name": "stdout",
     "output_type": "stream",
     "text": [
      "testing 1000\n",
      "populating mongodb collection with compounds from SDF...\n",
      "1000 molecules successfully imported\n",
      "0 duplicates skipped\n",
      "populating mongodb collection with compounds from SDF...\n",
      "1000 molecules successfully imported\n",
      "0 duplicates skipped\n",
      "populating mongodb collection with compounds from SDF...\n",
      "1000 molecules successfully imported\n",
      "0 duplicates skipped\n",
      "populating mongodb collection with compounds from SDF...\n",
      "1000 molecules successfully imported\n",
      "0 duplicates skipped\n",
      "populating mongodb collection with compounds from SDF...\n",
      "1000 molecules successfully imported\n",
      "0 duplicates skipped\n",
      "testing 2000\n",
      "populating mongodb collection with compounds from SDF...\n",
      "2000 molecules successfully imported\n",
      "0 duplicates skipped\n",
      "populating mongodb collection with compounds from SDF...\n",
      "2000 molecules successfully imported\n",
      "0 duplicates skipped\n",
      "populating mongodb collection with compounds from SDF...\n",
      "2000 molecules successfully imported\n",
      "0 duplicates skipped\n",
      "populating mongodb collection with compounds from SDF...\n",
      "2000 molecules successfully imported\n",
      "0 duplicates skipped\n",
      "populating mongodb collection with compounds from SDF...\n",
      "2000 molecules successfully imported\n",
      "0 duplicates skipped\n",
      "testing 3000\n",
      "populating mongodb collection with compounds from SDF...\n",
      "3000 molecules successfully imported\n",
      "0 duplicates skipped\n",
      "populating mongodb collection with compounds from SDF...\n"
     ]
    }
   ],
   "source": [
    "repetitions = 5\n",
    "scheme = registration.MolDocScheme()\n",
    "scheme.add_all_hashes()\n",
    "times = []\n",
    "limits = [1000 + (i * 1000) for i in range(11)]\n",
    "for number in limits:\n",
    "    temp_times = []\n",
    "    print(f'testing {number}')\n",
    "    for i in range(repetitions):\n",
    "        mol_collection = db.molecules_write_testing\n",
    "        start = time.time()\n",
    "        write.WriteFromSDF(mol_collection, chembl, scheme, limit=number)\n",
    "        end = time.time()\n",
    "        duration = end - start\n",
    "        mol_collection.drop()\n",
    "        temp_times.append(duration)\n",
    "    times.append([number, np.mean(temp_times)])"
   ]
  },
  {
   "cell_type": "code",
   "execution_count": 17,
   "metadata": {},
   "outputs": [
    {
     "data": {
      "text/plain": [
       "[[2000, 14.187205600738526],\n",
       " [2100, 14.940004205703735],\n",
       " [2200, 15.965514373779296],\n",
       " [2300, 16.910987186431885],\n",
       " [2400, 23.27452983856201],\n",
       " [2500, 21.29524955749512],\n",
       " [2600, 23.414347171783447],\n",
       " [2700, 25.251486158370973],\n",
       " [2800, 28.250892400741577],\n",
       " [2900, 28.316519117355348],\n",
       " [3000, 32.57432060241699]]"
      ]
     },
     "execution_count": 17,
     "metadata": {},
     "output_type": "execute_result"
    },
    {
     "data": {
      "image/png": "[encoded data removed]",
      "text/plain": [
       "<Figure size 432x288 with 1 Axes>"
      ]
     },
     "metadata": {
      "needs_background": "light"
     },
     "output_type": "display_data"
    }
   ],
   "source": [
    "x_values = [i[0] for i in times]\n",
    "y_values = [i[1] for i in times]\n",
    "plt.plot(x_values, y_values)\n",
    "times"
   ]
  },
  {
   "cell_type": "markdown",
   "metadata": {},
   "source": [
    "Let's also divide each mean value by the number of molecules written to get a measure of how long it takes to write each molecule:"
   ]
  },
  {
   "cell_type": "code",
   "execution_count": 20,
   "metadata": {},
   "outputs": [
    {
     "data": {
      "text/plain": [
       "[<matplotlib.lines.Line2D at 0x1190042d0>]"
      ]
     },
     "execution_count": 20,
     "metadata": {},
     "output_type": "execute_result"
    },
    {
     "data": {
      "image/png": "[encoded data removed]",
      "text/plain": [
       "<Figure size 432x288 with 1 Axes>"
      ]
     },
     "metadata": {
      "needs_background": "light"
     },
     "output_type": "display_data"
    }
   ],
   "source": [
    "time_per_molecule = []\n",
    "for i in range(times):\n",
    "    time_per_molecule.append(y_values[i] / x_values[i])\n",
    "        \n",
    "plt.plot(x_values, time_per_molecule)"
   ]
  },
  {
   "cell_type": "markdown",
   "metadata": {},
   "source": [
    "The amount of time required to insert each molecule appears to stay relatively constant between 0.02 and 0.025 seconds; "
   ]
  },
  {
   "cell_type": "markdown",
   "metadata": {},
   "source": [
    "## Breaking Down Write Times\n",
    "### Hashes\n",
    "`mongordkit.registration` provides (as of time of writing) 23 different molecular hash options. Calculating all of these hash options when writing molecules into a database results in extremely long write times. Here, we calculate the median time required to calculate each hash for the first 200 molecules in a ChEMBL database. "
   ]
  },
  {
   "cell_type": "code",
   "execution_count": 4,
   "metadata": {},
   "outputs": [],
   "source": [
    "median_times = []\n",
    "\n",
    "for key in hash_functions: \n",
    "    times = []\n",
    "    for rdmol in Chem.ForwardSDMolSupplier(first_200_mols):\n",
    "        start = time.time()\n",
    "        _ = hash_functions[key](rdmol)\n",
    "        end = time.time()\n",
    "        times.append(end - start)\n",
    "    median_times.append([key, np.median(times)])"
   ]
  },
  {
   "cell_type": "code",
   "execution_count": 5,
   "metadata": {},
   "outputs": [
    {
     "data": {
      "text/plain": [
       "<BarContainer object of 23 artists>"
      ]
     },
     "execution_count": 5,
     "metadata": {},
     "output_type": "execute_result"
    },
    {
     "data": {
      "image/png": "[encoded data removed]",
      "text/plain": [
       "<Figure size 2880x720 with 1 Axes>"
      ]
     },
     "metadata": {
      "needs_background": "light"
     },
     "output_type": "display_data"
    }
   ],
   "source": [
    "fig = plt.figure(figsize=(40, 10))\n",
    "x_list = [v[0] for v in median_times]\n",
    "y_list = [v[1] for v in median_times]\n",
    "plt.xlabel('hashes')\n",
    "plt.ylabel('time (s)')\n",
    "plt.bar(x_list, y_list)"
   ]
  },
  {
   "cell_type": "markdown",
   "metadata": {},
   "source": [
    "It is evident that some of the hashes take significantly longer (those with the inchikeys being almost eight times as expensive as MolFormula or DegreeVector. With this in mind, let's take a look at how long it takes to generate a mol document. "
   ]
  },
  {
   "cell_type": "markdown",
   "metadata": {},
   "source": [
    "### MolDocuments\n",
    "By default, `mongordkit.registration` includes only `CanonicalSmiles` and `inchikey_standard` in the hashes it generates. Let's look at time to generate mol documents for the first 200 mols in a ChEMBL dataset from above for this default scheme:"
   ]
  },
  {
   "cell_type": "code",
   "execution_count": 6,
   "metadata": {},
   "outputs": [
    {
     "name": "stdout",
     "output_type": "stream",
     "text": [
      "Median required time: 0.0010679960250854492, Mean required time: 0.0011445283889770508\n"
     ]
    }
   ],
   "source": [
    "scheme = registration.MolDocScheme()\n",
    "times = []\n",
    "for rdmol in Chem.ForwardSDMolSupplier(first_200_mols):\n",
    "    start = time.time()\n",
    "    _ = scheme.generate_mol_doc(rdmol)\n",
    "    end = time.time()\n",
    "    times.append(end - start)\n",
    "print(f\"Median required time: {np.median(times)}, Mean required time: {np.mean(times)}\")"
   ]
  },
  {
   "cell_type": "markdown",
   "metadata": {},
   "source": [
    "What if we add all the hashes back in?"
   ]
  },
  {
   "cell_type": "code",
   "execution_count": 7,
   "metadata": {},
   "outputs": [
    {
     "name": "stdout",
     "output_type": "stream",
     "text": [
      "Median required time: 0.0047119855880737305, Mean required time: 0.00495597243309021\n"
     ]
    }
   ],
   "source": [
    "scheme.add_all_hashes()\n",
    "times = []\n",
    "for rdmol in Chem.ForwardSDMolSupplier(first_200_mols):\n",
    "    start = time.time()\n",
    "    _ = scheme.generate_mol_doc(rdmol)\n",
    "    end = time.time()\n",
    "    times.append(end - start)\n",
    "print(f\"Median required time: {np.median(times)}, Mean required time: {np.mean(times)}\")"
   ]
  },
  {
   "cell_type": "markdown",
   "metadata": {},
   "source": [
    "Adding all the hashes increases the required time by a factor of between 4 and 5. However, this is still a negligible amount (around 5%) of time compared to the time that it takes to actually write the molecule into the database from above. In fact, the total time required to generate all of these mol documents for a million molecules would be less than two hours. These benchmarks were run because writing a million molecules had taken more than three days. \n",
    "\n",
    "Evidently, most of the work happens in the insertion step. "
   ]
  },
  {
   "cell_type": "code",
   "execution_count": null,
   "metadata": {},
   "outputs": [],
   "source": []
  }
 ],
 "metadata": {
  "kernelspec": {
   "display_name": "py37_rdkit_beta",
   "language": "python",
   "name": "py37_rdkit_beta"
  },
  "language_info": {
   "codemirror_mode": {
    "name": "ipython",
    "version": 3
   },
   "file_extension": ".py",
   "mimetype": "text/x-python",
   "name": "python",
   "nbconvert_exporter": "python",
   "pygments_lexer": "ipython3",
   "version": "3.7.7"
  }
 },
 "nbformat": 4,
 "nbformat_minor": 4
}
